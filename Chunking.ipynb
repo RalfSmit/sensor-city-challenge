{
 "metadata": {
  "name": "",
  "signature": "sha256:735b7d0133aee308c48ee981de71c932ea79caab7d35b588c4821e9b307aab10"
 },
 "nbformat": 3,
 "nbformat_minor": 0,
 "worksheets": [
  {
   "cells": [
    {
     "cell_type": "code",
     "collapsed": false,
     "input": [
      "import wave"
     ],
     "language": "python",
     "metadata": {},
     "outputs": [],
     "prompt_number": 1
    },
    {
     "cell_type": "code",
     "collapsed": false,
     "input": [
      "path = '/home/melchior/Code/SensorCityChallenge/raw/Friday Morning - 072400.wav'\n",
      "\n",
      "# Split wav file into smaller files with 'size' seconds\n",
      "def splitWav(path, size):\n",
      "\n",
      "    source = wave.open(path, 'r')\n",
      "    \n",
      "    mode = source.getnchannels()\n",
      "    sampleWidth = source.getsampwidth()\n",
      "    frameWidth = source.getnframes()\n",
      "    frameRate = source.getframerate()\n",
      "    \n",
      "    splitWidth = size*frameRate\n",
      "    splitSize = frameWidth/splitWidth\n",
      "    \n",
      "    path = path[:path.rfind('.')]\n",
      "    \n",
      "    for i in range(splitSize):\n",
      "        newPath = '{0}_{1}{2}'.format(path, i, '.wav')\n",
      "\n",
      "        data = source.readframes(splitWidth);\n",
      "\n",
      "        destination = wave.open(newPath, 'w')\n",
      "        destination.setnchannels(mode)\n",
      "        destination.setsampwidth(sampleWidth)\n",
      "        destination.setframerate(frameRate)\n",
      "        destination.writeframes(data)\n",
      "\n",
      "        destination.close()\n",
      "\n",
      "    source.close()"
     ],
     "language": "python",
     "metadata": {},
     "outputs": [],
     "prompt_number": 35
    },
    {
     "cell_type": "code",
     "collapsed": false,
     "input": [
      "splitWav(path, 10)"
     ],
     "language": "python",
     "metadata": {},
     "outputs": [],
     "prompt_number": 36
    },
    {
     "cell_type": "code",
     "collapsed": false,
     "input": [],
     "language": "python",
     "metadata": {},
     "outputs": [],
     "prompt_number": 36
    },
    {
     "cell_type": "code",
     "collapsed": false,
     "input": [],
     "language": "python",
     "metadata": {},
     "outputs": []
    }
   ],
   "metadata": {}
  }
 ]
}