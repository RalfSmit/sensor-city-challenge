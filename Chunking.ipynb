{
 "metadata": {
  "name": "",
  "signature": "sha256:77b97688592f5a6c66c9656f540d387a9f846588e61a251ae4ae8fed5b9250e9"
 },
 "nbformat": 3,
 "nbformat_minor": 0,
 "worksheets": [
  {
   "cells": [
    {
     "cell_type": "code",
     "collapsed": false,
     "input": [
      "import wave\n",
      "import os\n",
      "import zipfile\n",
      "import subprocess\n",
      "from os import listdir\n",
      "from os.path import isfile, join\n",
      "import h5py\n",
      "\n",
      "import numpy as np\n",
      "from scipy.spatial import distance\n",
      "import matplotlib.pyplot as plt\n",
      "from sklearn import manifold\n",
      "from scipy import stats"
     ],
     "language": "python",
     "metadata": {},
     "outputs": [],
     "prompt_number": 12
    },
    {
     "cell_type": "code",
     "collapsed": false,
     "input": [
      "'''\n",
      "## Create a directory on 'destination' if does not exist\n",
      "'''\n",
      "def makeDir(destination):\n",
      "    if not os.path.exists(destination):\n",
      "        os.makedirs(destination)\n",
      "\n",
      "'''    \n",
      "## Unzip file ('path') to 'destination' folder. \n",
      "    \n",
      "    ie: \n",
      "        # unzip '1446139584253.zip' and put contents inside 'test' folder\n",
      "        unzip('1446139584253.zip', 'test')\n",
      "'''\n",
      "def unzip(path, destination):\n",
      "    makeDir(destination)\n",
      "    \n",
      "    file = zipfile.ZipFile(path, 'r')\n",
      "    file.extractall(destination)\n",
      "\n",
      "'''\n",
      "## Split wav file into smaller files with 'size' seconds\n",
      "    \n",
      "    ie: \n",
      "        # split file into smaller files with 10s each\n",
      "        splitWav('Friday Morning - 072400.wav', 10) \n",
      "'''\n",
      "def splitWav(path, size):\n",
      "\n",
      "    source = wave.open(path, 'r')\n",
      "    \n",
      "    mode = source.getnchannels()\n",
      "    sampleWidth = source.getsampwidth()\n",
      "    frameWidth = source.getnframes()\n",
      "    frameRate = source.getframerate()\n",
      "    \n",
      "    splitWidth = size*frameRate\n",
      "    splitSize = frameWidth/splitWidth\n",
      "    \n",
      "    path = path[:path.rfind('.')]\n",
      "    \n",
      "    for i in range(splitSize):\n",
      "        newPath = '{0}_{1}{2}'.format(path, i, '.wav')\n",
      "\n",
      "        data = source.readframes(splitWidth);\n",
      "\n",
      "        destination = wave.open(newPath, 'w')\n",
      "        destination.setnchannels(mode)\n",
      "        destination.setsampwidth(sampleWidth)\n",
      "        destination.setframerate(frameRate)\n",
      "        destination.writeframes(data)\n",
      "\n",
      "        destination.close()\n",
      "\n",
      "    source.close()\n",
      "    \n",
      "'''\n",
      "## Call sound2sounds script on wav files inside 'inputPath' \n",
      "    and put the results and logs inside 'outputPath'\n",
      "'''\n",
      "def applySound2Sounds(inputPath, outputPath):\n",
      "    soundAnnotatorPath = 'python /home/melchior/Code/sound2sounds/sound2sounds/experiments/simple/soundAnnotator.py'\n",
      "    \n",
      "    wavFolder = inputPath\n",
      "    logFolder = join(outputPath, 'log')\n",
      "    outFolder = join(outputPath, 'out')\n",
      "    \n",
      "    makeDir(outputPath)\n",
      "    makeDir(logFolder)\n",
      "    makeDir(outFolder)\n",
      "\n",
      "    args = '--noofscales 70 --inputrate 96000 --PTNE --ptnblockwidth 0.1 --ptnsplit [10,60] '\n",
      "    calibrateCmd = '{0} -c {1} --outdir {2} --logdir {3}'.format(\n",
      "        soundAnnotatorPath, args, outFolder, logFolder)\n",
      "    \n",
      "    processCmd = '{0} {1} --outdir {2} --logdir {3} --wav {4}'.format(\n",
      "        soundAnnotatorPath, args, outFolder, logFolder, wavFolder)\n",
      "    \n",
      "    returnCode = subprocess.call(calibrateCmd, shell=True)\n",
      "    assert(returnCode == 0)\n",
      "    \n",
      "    returnCode = subprocess.call(processCmd, shell=True)\n",
      "    assert(returnCode == 0)\n",
      "\n",
      "'''\n",
      "## Apply sound2sounds to zip file and returns the path to the result (hdf5 files)\n",
      "'''\n",
      "def processZip(fileName, wavSize):\n",
      "    # Extract file to a folder with same name\n",
      "    destination = fileName[:-4]\n",
      "    unzip(fileName, destination)\n",
      "    \n",
      "    wavFiles = filter(lambda file: isfile(join(destination,file)), listdir(destination))\n",
      "    \n",
      "    # Divide the file into chunks of 'wavSize' and delete original\n",
      "    if wavSize > 0:\n",
      "        for wavFile in wavFiles:\n",
      "            path = join(destination, wavFile)\n",
      "            splitWav(path, wavSize)\n",
      "            os.remove(path)\n",
      "    \n",
      "    # Apply sound2sounds to the files\n",
      "    applySound2Sounds(destination, destination)\n",
      "\n",
      "    outputPath = join(destination, 'out/hdf5/')\n",
      "    outputPath = join(outputPath, listdir(outputPath)[0]) # get inside the date folder\n",
      "    return outputPath\n",
      "    \n",
      "'''\n",
      "## Open all hdf5 files inside the path and return a list of handles\n",
      "'''\n",
      "def openFiles(path):\n",
      "    # Filter tract features files \n",
      "    files = filter(\n",
      "        lambda file: isfile(join(path, file)) and 'FileWriter2-PTNE' in file, listdir(path))\n",
      "\n",
      "    # Open all files\n",
      "    handles = map(\n",
      "        lambda file: h5py.File(join(path,file), 'r'), files)\n",
      "    \n",
      "    return handles"
     ],
     "language": "python",
     "metadata": {},
     "outputs": [],
     "prompt_number": 13
    },
    {
     "cell_type": "code",
     "collapsed": false,
     "input": [
      "'''\n",
      "## Compute the distance between each 'vector' in data using the desired predicate\n",
      "    - Data models a np.array.\n",
      "    \n",
      "    ie:\n",
      "        data = np.array([[0, 1], [1, 0]])\n",
      "        computeDistanceMatrix(data, distance.euclidean) \n",
      "            \n",
      "            # returns:\n",
      "                # array([[ 0.        ,  1.41421356],\n",
      "                #        [ 1.41421356,  0.        ]])\n",
      "'''\n",
      "def computeDistanceMatrix(data, predicate):\n",
      "    size = data.shape[0]\n",
      "    distances = np.zeros((size, size));\n",
      "    \n",
      "    for row in xrange(0, size):\n",
      "        print 'processing row {0}'.format(row)\n",
      "        for col in xrange(0, 1+row):\n",
      "            if (col != row):\n",
      "                distance = predicate(data[row], data[col])\n",
      "                distances[row, col] = distance;\n",
      "                distances[col, row] = distance;\n",
      "    return distances\n",
      "\n",
      "\n",
      "'''\n",
      "## \n",
      "'''\n",
      "def kolmogorov(first, second):\n",
      "    result = stats.ks_2samp(first, second)\n",
      "    return result[0]\n",
      "\n",
      "\n",
      "'''\n",
      "## Apply multidimensional scaling in order to produce a 2D visualization of the data.\n",
      "    \n",
      "'''\n",
      "def visualizeCluster(distances, labels, title):\n",
      "    \n",
      "    seed = np.random.RandomState(seed=3)\n",
      "    mds = manifold.MDS(n_components=2, max_iter=3000, eps=1e-9, random_state=seed,\n",
      "                       dissimilarity=\"precomputed\", n_jobs=1)\n",
      "    coords = mds.fit(distances).embedding_\n",
      "\n",
      "    plt.figure()\n",
      "    plt.scatter(coords[:, 0], coords[:, 1], marker = 'o')\n",
      "    plt.title(title)\n",
      "    \n",
      "    for label, x, y in zip(labels, coords[:, 0], coords[:, 1]):\n",
      "        plt.annotate(label,\n",
      "            xy = (x, y), xytext = (-20, 20),\n",
      "            textcoords = 'offset points', ha = 'right', va = 'bottom',\n",
      "            bbox = dict(boxstyle = 'round,pad=0.5', fc = 'yellow', alpha = 0.5),\n",
      "            arrowprops = dict(arrowstyle = '->', connectionstyle = 'arc3,rad=0'))\n",
      "    \n",
      "    plt.show()"
     ],
     "language": "python",
     "metadata": {},
     "outputs": [],
     "prompt_number": 22
    },
    {
     "cell_type": "code",
     "collapsed": false,
     "input": [
      "samplePath = '/home/melchior/Code/SensorCityChallenge/S.zip'\n",
      "outputPath = processZip(samplePath, 10)"
     ],
     "language": "python",
     "metadata": {},
     "outputs": [],
     "prompt_number": 25
    },
    {
     "cell_type": "code",
     "collapsed": false,
     "input": [
      "samplePath = '/home/melchior/Code/SensorCityChallenge/ref.zip'\n",
      "referencePath = processZip(samplePath, 0)"
     ],
     "language": "python",
     "metadata": {},
     "outputs": [],
     "prompt_number": 14
    },
    {
     "cell_type": "code",
     "collapsed": false,
     "input": [
      "handles = openFiles(referencePath) + openFiles(outputPath)\n",
      "keys = [u'f_tract', u's_tract']\n",
      "\n",
      "# extract file names from metadata\n",
      "labels = map(\n",
      "    lambda handle: handle.attrs['wav'][handle.attrs['wav'].rfind('/') + 1:], handles)\n",
      "\n",
      "np.save(join(outputPath, 'label'), labels)"
     ],
     "language": "python",
     "metadata": {},
     "outputs": [],
     "prompt_number": 26
    },
    {
     "cell_type": "code",
     "collapsed": false,
     "input": [
      "for key in keys:\n",
      "    data = map(lambda handle: np.array(handle[key]).flatten(), handles)   \n",
      "    distances = computeDistanceMatrix(np.array(data), kolmogorov)\n",
      "    np.save(join(outputPath, key), distances)"
     ],
     "language": "python",
     "metadata": {},
     "outputs": [
      {
       "output_type": "stream",
       "stream": "stdout",
       "text": [
        "processing row 0\n",
        "processing row 1\n",
        "processing row 2"
       ]
      },
      {
       "output_type": "stream",
       "stream": "stdout",
       "text": [
        "\n",
        "processing row 3"
       ]
      },
      {
       "output_type": "stream",
       "stream": "stdout",
       "text": [
        "\n",
        "processing row 4"
       ]
      },
      {
       "output_type": "stream",
       "stream": "stdout",
       "text": [
        "\n",
        "processing row 5"
       ]
      },
      {
       "output_type": "stream",
       "stream": "stdout",
       "text": [
        "\n",
        "processing row 6"
       ]
      },
      {
       "output_type": "stream",
       "stream": "stdout",
       "text": [
        "\n",
        "processing row 7"
       ]
      },
      {
       "output_type": "stream",
       "stream": "stdout",
       "text": [
        "\n",
        "processing row 8"
       ]
      },
      {
       "output_type": "stream",
       "stream": "stdout",
       "text": [
        "\n",
        "processing row 9"
       ]
      },
      {
       "output_type": "stream",
       "stream": "stdout",
       "text": [
        "\n",
        "processing row 10"
       ]
      },
      {
       "output_type": "stream",
       "stream": "stdout",
       "text": [
        "\n",
        "processing row 11"
       ]
      },
      {
       "output_type": "stream",
       "stream": "stdout",
       "text": [
        "\n",
        "processing row 12"
       ]
      },
      {
       "output_type": "stream",
       "stream": "stdout",
       "text": [
        "\n",
        "processing row 13"
       ]
      },
      {
       "output_type": "stream",
       "stream": "stdout",
       "text": [
        "\n",
        "processing row 14"
       ]
      },
      {
       "output_type": "stream",
       "stream": "stdout",
       "text": [
        "\n",
        "processing row 15"
       ]
      },
      {
       "output_type": "stream",
       "stream": "stdout",
       "text": [
        "\n",
        "processing row 16"
       ]
      },
      {
       "output_type": "stream",
       "stream": "stdout",
       "text": [
        "\n",
        "processing row 17"
       ]
      },
      {
       "output_type": "stream",
       "stream": "stdout",
       "text": [
        "\n",
        "processing row 18"
       ]
      },
      {
       "output_type": "stream",
       "stream": "stdout",
       "text": [
        "\n",
        "processing row 19"
       ]
      },
      {
       "output_type": "stream",
       "stream": "stdout",
       "text": [
        "\n",
        "processing row 20"
       ]
      },
      {
       "output_type": "stream",
       "stream": "stdout",
       "text": [
        "\n",
        "processing row 21"
       ]
      },
      {
       "output_type": "stream",
       "stream": "stdout",
       "text": [
        "\n",
        "processing row 22"
       ]
      },
      {
       "output_type": "stream",
       "stream": "stdout",
       "text": [
        "\n",
        "processing row 23"
       ]
      },
      {
       "output_type": "stream",
       "stream": "stdout",
       "text": [
        "\n",
        "processing row 24"
       ]
      },
      {
       "output_type": "stream",
       "stream": "stdout",
       "text": [
        "\n",
        "processing row 25"
       ]
      },
      {
       "output_type": "stream",
       "stream": "stdout",
       "text": [
        "\n",
        "processing row 26"
       ]
      },
      {
       "output_type": "stream",
       "stream": "stdout",
       "text": [
        "\n",
        "processing row 27"
       ]
      },
      {
       "output_type": "stream",
       "stream": "stdout",
       "text": [
        "\n",
        "processing row 28"
       ]
      },
      {
       "output_type": "stream",
       "stream": "stdout",
       "text": [
        "\n",
        "processing row 0"
       ]
      },
      {
       "output_type": "stream",
       "stream": "stdout",
       "text": [
        "\n",
        "processing row 1\n",
        "processing row 2"
       ]
      },
      {
       "output_type": "stream",
       "stream": "stdout",
       "text": [
        "\n",
        "processing row 3"
       ]
      },
      {
       "output_type": "stream",
       "stream": "stdout",
       "text": [
        "\n",
        "processing row 4"
       ]
      },
      {
       "output_type": "stream",
       "stream": "stdout",
       "text": [
        "\n",
        "processing row 5"
       ]
      },
      {
       "output_type": "stream",
       "stream": "stdout",
       "text": [
        "\n",
        "processing row 6"
       ]
      },
      {
       "output_type": "stream",
       "stream": "stdout",
       "text": [
        "\n",
        "processing row 7"
       ]
      },
      {
       "output_type": "stream",
       "stream": "stdout",
       "text": [
        "\n",
        "processing row 8"
       ]
      },
      {
       "output_type": "stream",
       "stream": "stdout",
       "text": [
        "\n",
        "processing row 9"
       ]
      },
      {
       "output_type": "stream",
       "stream": "stdout",
       "text": [
        "\n",
        "processing row 10"
       ]
      },
      {
       "output_type": "stream",
       "stream": "stdout",
       "text": [
        "\n",
        "processing row 11"
       ]
      },
      {
       "output_type": "stream",
       "stream": "stdout",
       "text": [
        "\n",
        "processing row 12"
       ]
      },
      {
       "output_type": "stream",
       "stream": "stdout",
       "text": [
        "\n",
        "processing row 13"
       ]
      },
      {
       "output_type": "stream",
       "stream": "stdout",
       "text": [
        "\n",
        "processing row 14"
       ]
      },
      {
       "output_type": "stream",
       "stream": "stdout",
       "text": [
        "\n",
        "processing row 15"
       ]
      },
      {
       "output_type": "stream",
       "stream": "stdout",
       "text": [
        "\n",
        "processing row 16"
       ]
      },
      {
       "output_type": "stream",
       "stream": "stdout",
       "text": [
        "\n",
        "processing row 17"
       ]
      },
      {
       "output_type": "stream",
       "stream": "stdout",
       "text": [
        "\n",
        "processing row 18"
       ]
      },
      {
       "output_type": "stream",
       "stream": "stdout",
       "text": [
        "\n",
        "processing row 19"
       ]
      },
      {
       "output_type": "stream",
       "stream": "stdout",
       "text": [
        "\n",
        "processing row 20"
       ]
      },
      {
       "output_type": "stream",
       "stream": "stdout",
       "text": [
        "\n",
        "processing row 21"
       ]
      },
      {
       "output_type": "stream",
       "stream": "stdout",
       "text": [
        "\n",
        "processing row 22"
       ]
      },
      {
       "output_type": "stream",
       "stream": "stdout",
       "text": [
        "\n",
        "processing row 23"
       ]
      },
      {
       "output_type": "stream",
       "stream": "stdout",
       "text": [
        "\n",
        "processing row 24"
       ]
      },
      {
       "output_type": "stream",
       "stream": "stdout",
       "text": [
        "\n",
        "processing row 25"
       ]
      },
      {
       "output_type": "stream",
       "stream": "stdout",
       "text": [
        "\n",
        "processing row 26"
       ]
      },
      {
       "output_type": "stream",
       "stream": "stdout",
       "text": [
        "\n",
        "processing row 27"
       ]
      },
      {
       "output_type": "stream",
       "stream": "stdout",
       "text": [
        "\n",
        "processing row 28"
       ]
      },
      {
       "output_type": "stream",
       "stream": "stdout",
       "text": [
        "\n"
       ]
      }
     ],
     "prompt_number": 33
    },
    {
     "cell_type": "code",
     "collapsed": false,
     "input": [
      "for key in keys:\n",
      "    distances = np.load(join(outputPath, key) + '.npy')\n",
      "    visualizeCluster(distances, labels, key)"
     ],
     "language": "python",
     "metadata": {},
     "outputs": [],
     "prompt_number": 35
    },
    {
     "cell_type": "code",
     "collapsed": false,
     "input": [],
     "language": "python",
     "metadata": {},
     "outputs": [],
     "prompt_number": 83
    },
    {
     "cell_type": "code",
     "collapsed": false,
     "input": [],
     "language": "python",
     "metadata": {},
     "outputs": []
    }
   ],
   "metadata": {}
  }
 ]
}