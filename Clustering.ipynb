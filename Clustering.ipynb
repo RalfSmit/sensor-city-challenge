{
 "metadata": {
  "name": "",
  "signature": "sha256:77f946d80c2f067ac02acbe454cf4020e5c8b5554d02e67faf079c96849108db"
 },
 "nbformat": 3,
 "nbformat_minor": 0,
 "worksheets": [
  {
   "cells": [
    {
     "cell_type": "code",
     "collapsed": false,
     "input": [
      "import h5py\n",
      "import numpy as np\n",
      "from os import listdir\n",
      "from os.path import isfile, join\n",
      "from scipy.spatial import distance\n",
      "\n",
      "%matplotlib inline\n",
      "import matplotlib.pyplot as plt\n",
      "from sklearn import manifold"
     ],
     "language": "python",
     "metadata": {},
     "outputs": [],
     "prompt_number": 26
    },
    {
     "cell_type": "code",
     "collapsed": false,
     "input": [
      "def visualize_cluster(distances, labels, title):\n",
      "    \n",
      "    seed = np.random.RandomState(seed=3)\n",
      "    mds = manifold.MDS(n_components=2, max_iter=3000, eps=1e-9, random_state=seed,\n",
      "                       dissimilarity=\"precomputed\", n_jobs=1)\n",
      "    coords = mds.fit(distances).embedding_\n",
      "\n",
      "    plt.figure()\n",
      "    plt.scatter(coords[:, 0], coords[:, 1], marker = 'o')\n",
      "    plt.title(title)\n",
      "    for label, x, y in zip(labels, coords[:, 0], coords[:, 1]):\n",
      "        plt.annotate(label,\n",
      "            xy = (x, y), xytext = (-20, 20),\n",
      "            textcoords = 'offset points', ha = 'right', va = 'bottom',\n",
      "            bbox = dict(boxstyle = 'round,pad=0.5', fc = 'yellow', alpha = 0.5),\n",
      "            arrowprops = dict(arrowstyle = '->', connectionstyle = 'arc3,rad=0'))\n",
      "    \n",
      "    plt.show()"
     ],
     "language": "python",
     "metadata": {},
     "outputs": [],
     "prompt_number": 27
    },
    {
     "cell_type": "code",
     "collapsed": false,
     "input": [
      "path = '/home/melchior/Code/SensorCityChallenge/proc/hdf5/2015-11-01/'\n",
      "\n",
      "# Filter only the desired data files\n",
      "def filterFiles(file):\n",
      "    return isfile(join(path, file)) and 'FileWriter-PTNE' in file\n",
      "\n",
      "# Open the hdf5 \n",
      "def openFiles(file):\n",
      "    return h5py.File(join(path,file), 'r')\n",
      "\n",
      "# Data models an array of arrays\n",
      "# Pedricate is the desired distance function\n",
      "def make_distance_matrix(data, predicate):\n",
      "    size = data.shape[0]\n",
      "    distances = np.zeros((size, size));\n",
      "    \n",
      "    for row in xrange(0, size):\n",
      "        for col in xrange(0, 1+row):\n",
      "            if (col != row):\n",
      "                distance = predicate(data[row], data[col])\n",
      "                distances[row, col] = distance;\n",
      "                distances[col, row] = distance;\n",
      "    return distances\n",
      "                \n",
      "files = filter(filterFiles, listdir(path))\n",
      "handlers = map(openFiles, files)\n",
      "keys = handlers[0].keys() # Assume all files have the same keys\n",
      "labels = map(lambda handle: handle.attrs['wav'][handle.attrs['wav'].rfind('/') + 1:], handlers)\n",
      "\n",
      "\n",
      "\n",
      "print labels \n",
      "\n",
      "for key in keys:\n",
      "    size = 45;\n",
      "    data = map(lambda handler: np.array(handler[key][:size]), handlers)\n",
      "    distances = make_distance_matrix(np.array(data), distance.euclidean)\n",
      "    \n",
      "    print distances\n",
      "    visualize_cluster(distances, labels, key)"
     ],
     "language": "python",
     "metadata": {},
     "outputs": []
    },
    {
     "cell_type": "code",
     "collapsed": false,
     "input": [],
     "language": "python",
     "metadata": {},
     "outputs": [],
     "prompt_number": 9
    },
    {
     "cell_type": "code",
     "collapsed": false,
     "input": [],
     "language": "python",
     "metadata": {},
     "outputs": [],
     "prompt_number": 9
    },
    {
     "cell_type": "code",
     "collapsed": false,
     "input": [],
     "language": "python",
     "metadata": {},
     "outputs": [],
     "prompt_number": 29
    },
    {
     "cell_type": "markdown",
     "metadata": {},
     "source": []
    },
    {
     "cell_type": "code",
     "collapsed": false,
     "input": [],
     "language": "python",
     "metadata": {},
     "outputs": []
    }
   ],
   "metadata": {}
  }
 ]
}